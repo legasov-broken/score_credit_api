{
 "cells": [
  {
   "cell_type": "markdown",
   "metadata": {
    "id": "EhF_EKggnRwh"
   },
   "source": [
    "##START"
   ]
  },
  {
   "cell_type": "code",
   "execution_count": 409,
   "metadata": {
    "id": "nrt8MJe0OfRi"
   },
   "outputs": [],
   "source": [
    "import pandas as pd\n",
    "import matplotlib.pyplot as plt\n",
    "import seaborn as sns\n",
    "import numpy as np"
   ]
  },
  {
   "cell_type": "code",
   "execution_count": 410,
   "metadata": {
    "id": "3ozhMCS0rfnd"
   },
   "outputs": [],
   "source": [
    "loan = pd.read_csv(\"./old/Loan_information.csv\")"
   ]
  },
  {
   "cell_type": "code",
   "execution_count": 411,
   "metadata": {
    "id": "bMUVtptcrrUv"
   },
   "outputs": [],
   "source": [
    "loan['OPNDT'] =  pd.to_datetime(loan['OPNDT'], format='%d/%m/%Y')\n",
    "loan['END_OF_TENOR'] =  pd.to_datetime(loan['END_OF_TENOR'], format='%d/%m/%Y')\n",
    "loan['LOAN_LENGTH'] = (loan['END_OF_TENOR'] - loan['OPNDT']).dt.days"
   ]
  },
  {
   "cell_type": "code",
   "execution_count": 412,
   "metadata": {
    "colab": {
     "base_uri": "https://localhost:8080/",
     "height": 1000
    },
    "id": "n4ujqBQr__O3",
    "outputId": "223fe71b-0500-4224-ee4d-089d6b6de682"
   },
   "outputs": [
    {
     "name": "stderr",
     "output_type": "stream",
     "text": [
      "/tmp/ipykernel_15636/3269314395.py:1: FutureWarning: The default value of numeric_only in DataFrame.corr is deprecated. In a future version, it will default to False. Select only valid columns or specify the value of numeric_only to silence this warning.\n",
      "  corrMatrix = loan.corr()\n"
     ]
    }
   ],
   "source": [
    "corrMatrix = loan.corr()"
   ]
  },
  {
   "cell_type": "code",
   "execution_count": 413,
   "metadata": {
    "id": "-_jwrgLf4iTZ"
   },
   "outputs": [],
   "source": [
    "loan.drop(['CLSDT', 'PHONE', 'ADDRESS', 'CREDIT_ACNO', 'Debit ACNO', 'DEALER_NAME', 'OPNDT', 'END_OF_TENOR'], axis=1, inplace=True)"
   ]
  },
  {
   "cell_type": "markdown",
   "metadata": {
    "id": "Uq-bweSPnKDm"
   },
   "source": [
    "## DATA PRO"
   ]
  },
  {
   "cell_type": "code",
   "execution_count": 414,
   "metadata": {
    "id": "n7vitory8-UK"
   },
   "outputs": [],
   "source": [
    "loan_c = loan.drop(['LAST_REPAYMENT_DATE'], axis=1)"
   ]
  },
  {
   "cell_type": "code",
   "execution_count": 415,
   "metadata": {
    "id": "yUvu7PW5ZuwH"
   },
   "outputs": [],
   "source": [
    "loan_c['LAST_REPAYMENT_AMOUNT'].fillna(value=loan_c['LAST_REPAYMENT_AMOUNT'].mean(), inplace=True)"
   ]
  },
  {
   "cell_type": "code",
   "execution_count": 416,
   "metadata": {
    "id": "wYs0FpBx-yD2"
   },
   "outputs": [],
   "source": [
    "loan_c.drop(['CUSTOMERID'], axis=1, inplace =True)"
   ]
  },
  {
   "cell_type": "code",
   "execution_count": 417,
   "metadata": {
    "id": "_m38jAlpEBnq"
   },
   "outputs": [],
   "source": [
    "# create a new column based on the NPL_STATUS column that will be our target variable\n",
    "loan_c['good_bad'] = np.where(loan_c.loc[:, 'NPL_STATUS'].isin(['Bad Debt', 'Doubtful']), 0, 1)\n",
    "# Drop the original 'NPL_STATUS' column\n",
    "loan_c.drop(columns = ['NPL_STATUS'], inplace = True)"
   ]
  },
  {
   "cell_type": "code",
   "execution_count": 418,
   "metadata": {
    "colab": {
     "base_uri": "https://localhost:8080/",
     "height": 1000
    },
    "id": "YSQPMHMZGR1w",
    "outputId": "c9a52abd-2b19-47dc-abe9-16bdc0d093df"
   },
   "outputs": [
    {
     "name": "stderr",
     "output_type": "stream",
     "text": [
      "/tmp/ipykernel_15636/733734017.py:1: FutureWarning: The default value of numeric_only in DataFrame.corr is deprecated. In a future version, it will default to False. Select only valid columns or specify the value of numeric_only to silence this warning.\n",
      "  corrMatrix = loan_c.corr()\n"
     ]
    }
   ],
   "source": [
    "corrMatrix = loan_c.corr()"
   ]
  },
  {
   "cell_type": "code",
   "execution_count": 419,
   "metadata": {
    "id": "L42GHLSFKWCe"
   },
   "outputs": [],
   "source": [
    "numerical_features = loan_c.select_dtypes(include='number')\n",
    "object_features = loan_c.select_dtypes(include='object')\n",
    "datetime_features = loan_c.select_dtypes(include='datetime')"
   ]
  },
  {
   "cell_type": "code",
   "execution_count": 420,
   "metadata": {
    "id": "H7ULq2hh9fgs"
   },
   "outputs": [],
   "source": [
    "loan_c.drop(datetime_features.columns, axis=1, inplace=True)"
   ]
  },
  {
   "cell_type": "code",
   "execution_count": 421,
   "metadata": {
    "id": "h3HgtZdoXIHv"
   },
   "outputs": [],
   "source": [
    "from sklearn.preprocessing import OrdinalEncoder\n",
    "enc = OrdinalEncoder()\n",
    "loan_c[['CUSTOMER_TYPE', 'CATNAME', 'CRD_PURPOSE']]= enc.fit_transform(loan_c[['CUSTOMER_TYPE', 'CATNAME', 'CRD_PURPOSE']])\n",
    "# object_features['CRD_PURPOSE'] = enc.fit_transform(object_features['CRD_PURPOSE'])\n",
    "# object_features['CRD_CLASSIFICATION'] = enc.fit_transform(object_features['CRD_CLASSIFICATION'])\n",
    "# object_features['ACCOUNT_STATUS'] = enc.fit_transform(object_features['ACCOUNT_STATUS'])\n",
    "# object_features['MARTIAL_STATUS'] = enc.fit_transform(object_features['MARTIAL_STATUS'])"
   ]
  },
  {
   "cell_type": "code",
   "execution_count": 422,
   "metadata": {
    "id": "wR6uhHWUbVty"
   },
   "outputs": [],
   "source": [
    "loan_c.drop(['BRNAME', 'ASDATE',\t'NRC_NO',\t'MIN_DUEDT', 'CRD_CLASSIFICATION'], axis=1, inplace=True)"
   ]
  },
  {
   "cell_type": "code",
   "execution_count": 423,
   "metadata": {
    "id": "UqSVC2j09-wP"
   },
   "outputs": [],
   "source": [
    "loan_c.drop(['FIRSTDATE_OF_PRINCIPAL_PAYMENT', 'FIRSTDATE_OF_INTEREST_PAYMENT'], axis=1, inplace = True)"
   ]
  },
  {
   "cell_type": "code",
   "execution_count": 424,
   "metadata": {
    "id": "PBrcJfrOKgAD"
   },
   "outputs": [],
   "source": [
    "columns = np.full((corrMatrix.shape[0],), True, dtype=bool)\n",
    "for i in range(corrMatrix.shape[0]):\n",
    "    for j in range(i+1, corrMatrix.shape[0]):\n",
    "        if corrMatrix.iloc[i,j] >= 0.9:\n",
    "            if columns[j]:\n",
    "                columns[j] = False\n",
    "selected_columns = numerical_features.columns[columns]"
   ]
  },
  {
   "cell_type": "code",
   "execution_count": 425,
   "metadata": {
    "id": "mpP6uCS85GqH"
   },
   "outputs": [],
   "source": [
    "unselect = numerical_features.columns.difference(selected_columns)"
   ]
  },
  {
   "cell_type": "code",
   "execution_count": 426,
   "metadata": {
    "id": "q93G1y8-NWfK"
   },
   "outputs": [],
   "source": [
    "#drop mutilcorr\n",
    "loan_c.drop(unselect, axis=1, inplace = True)"
   ]
  },
  {
   "cell_type": "code",
   "execution_count": 427,
   "metadata": {
    "id": "hW2oBA5ffzpN"
   },
   "outputs": [],
   "source": [
    "MAX_VAL = 99999999999999\n",
    "MIN_VAL = -MAX_VAL\n",
    "\n",
    "def _bin_table(df, colname, n_bins = 10, qcut = None):\n",
    "  X = df[[colname, 'good_bad']]\n",
    "  X = X.sort_values(colname)\n",
    "  coltype = X[colname].dtype\n",
    "\n",
    "  if coltype in ['float', 'int']:\n",
    "    if qcut is None:\n",
    "      try:\n",
    "        bins, thres = pd.qcut(X[colname], q = n_bins, retbins=True)\n",
    "        # Thay thế threshold đầu và cuối của thres\n",
    "        thres[0] = MIN_VAL\n",
    "        thres[-1] = MAX_VAL\n",
    "        bins, thres = pd.cut(X[colname], bins=thres, retbins=True)\n",
    "        X['bins'] = bins\n",
    "      except:\n",
    "        print('n_bins must be lower to bin interval is valid!')\n",
    "    else:\n",
    "      bins, thres = pd.cut(X[colname], bins=qcut, retbins=True)\n",
    "      X['bins'] = bins\n",
    "  elif coltype == 'object':\n",
    "    X['bins'] = X[colname]\n",
    "\n",
    "  df_GB = pd.pivot_table(X, \n",
    "                index = ['bins'],\n",
    "                values = ['good_bad'],\n",
    "                columns = ['good_bad'],\n",
    "                aggfunc = {\n",
    "                    'good_bad':np.size\n",
    "                })\n",
    "\n",
    "  df_Count = pd.pivot_table(X, \n",
    "                index = ['bins'],\n",
    "                values = ['good_bad'],\n",
    "                aggfunc = {\n",
    "                    'good_bad': np.size\n",
    "                })\n",
    "  \n",
    "  if coltype in ['float', 'int']:\n",
    "    df_Thres = pd.DataFrame({'Thres':thres[1:]}, index=df_GB.index)\n",
    "  elif coltype == 'object':\n",
    "    df_Thres = pd.DataFrame(index=df_GB.index)\n",
    "    thres = None\n",
    "  df_Count.columns = ['No_Obs']\n",
    "  df_GB.columns = ['#BAD', '#GOOD']\n",
    "  df_summary = df_Thres.join(df_Count).join(df_GB)\n",
    "  return df_summary, thres"
   ]
  },
  {
   "cell_type": "code",
   "execution_count": 428,
   "metadata": {
    "id": "qpoLPDVcaO55"
   },
   "outputs": [],
   "source": [
    "from statsmodels.stats.outliers_influence import variance_inflation_factor\n",
    "\n",
    "def calc_vif(X):\n",
    "\n",
    "    # Calculating VIF\n",
    "    vif = pd.DataFrame()\n",
    "    vif[\"variables\"] = X.columns\n",
    "    vif[\"VIF\"] = [variance_inflation_factor(X.values, i) for i in range(X.shape[1])]\n",
    "\n",
    "    return(vif)"
   ]
  },
  {
   "cell_type": "code",
   "execution_count": 429,
   "metadata": {
    "id": "npezmb7VfqFi"
   },
   "outputs": [],
   "source": [
    "check = loan_c.drop(['good_bad'], axis=1)"
   ]
  },
  {
   "cell_type": "code",
   "execution_count": 430,
   "metadata": {
    "id": "Y9_xboe2ozhe"
   },
   "outputs": [],
   "source": [
    "check = check.drop(['CATNAME'], axis=1)"
   ]
  },
  {
   "cell_type": "code",
   "execution_count": 431,
   "metadata": {
    "id": "ia31nrSkQQM3"
   },
   "outputs": [],
   "source": [
    "# function to calculate woe of categorical features\n",
    "\n",
    "def woe_categorical(df, cat_feature, good_bad_df):\n",
    "    df = pd.concat([df[cat_feature], good_bad_df], axis=1)\n",
    "    df = pd.concat([df.groupby(df.columns.values[0], as_index = False)[df.columns.values[1]].count(),\n",
    "                    df.groupby(df.columns.values[0], as_index = False)[df.columns.values[1]].mean()], axis = 1)\n",
    "    df = df.iloc[:, [0, 1, 3]]\n",
    "    df.columns = [df.columns.values[0], 'n_obs', 'prop_good']\n",
    "    df['prop_n_obs'] = df['n_obs'] / df['n_obs'].sum()\n",
    "    df['n_good'] = df['prop_good'] * df['n_obs']\n",
    "    df['n_bad'] = (1 - df['prop_good']) * df['n_obs']\n",
    "    df['prop_n_good'] = df['n_good'] / df['n_good'].sum()\n",
    "    df['prop_n_bad'] = df['n_bad'] / df['n_bad'].sum()\n",
    "    df['WoE'] = np.log(df['prop_n_good'] / df['prop_n_bad'])\n",
    "    df = df.sort_values(['WoE'])\n",
    "    df = df.reset_index(drop = True)\n",
    "    df['diff_prop_good'] = df['prop_good'].diff().abs()\n",
    "    df['diff_WoE'] = df['WoE'].diff().abs()\n",
    "    df['IV'] = (df['prop_n_good'] - df['prop_n_bad']) * df['WoE']\n",
    "    df['IV'] = df['IV'].sum()\n",
    "    return df\n",
    "\n",
    "\n",
    "# function to plot woe values \n",
    "# We set the default style of the graphs to the seaborn style. \n",
    "# sns.set()\n",
    "# Below we define a function for plotting WoE across categories that takes 2 arguments: a dataframe and a number.\n",
    "# def plot_by_woe(df_WoE, rotation_of_x_axis_labels = 0):\n",
    "#     x = np.array(df_WoE.iloc[:, 0].apply(str))\n",
    "#     y = df_WoE['WoE']\n",
    "#     plt.figure(figsize=(18, 6))\n",
    "#     plt.plot(x, y, marker = 'o', linestyle = '--', color = 'k')\n",
    "#     plt.xlabel(df_WoE.columns[0])\n",
    "#     plt.ylabel('Weight of Evidence')\n",
    "#     plt.title(str('Weight of Evidence by ' + df_WoE.columns[0]))\n",
    "#     plt.xticks(rotation = rotation_of_x_axis_labels)    \n"
   ]
  },
  {
   "cell_type": "code",
   "execution_count": 432,
   "metadata": {
    "id": "jgma7WpOVbER"
   },
   "outputs": [],
   "source": [
    "def _WOE(data, colname, n_bins = None, min_obs = 100, qcut = None):\n",
    "  # Thống kê bins và lấy ra thres hold ban đầu\n",
    "  df_summary, thres = _bin_table(data, colname, n_bins = n_bins, qcut = qcut)\n",
    "  # Thay thế giá trị 0 của #BAD trong df_summary bằng 1 để không bị lỗi chia cho 0\n",
    "  df_summary['#BAD'] = df_summary['#BAD'].replace({0:1})\n",
    "  \n",
    "  if qcut is not None:\n",
    "    # Lọc bỏ threshold để tạo thành threshold mới mà thỏa mãn số lượng quan sát >= min_obs\n",
    "    exclude_ind = np.where(df_summary['No_Obs'] <= min_obs)[0]\n",
    "    if exclude_ind.shape[0] > 0:\n",
    "      new_thres = np.delete(thres, exclude_ind)\n",
    "      print('Auto combine {} bins into {} bins'.format(n_bins, new_thres.shape[0]-1))\n",
    "      # Tính toán lại bảng summary\n",
    "      df_summary, thres = _bin_table(data, colname, qcut=new_thres)\n",
    "  \n",
    "  new_thres = thres\n",
    "  df_summary['GOOD/BAD'] = df_summary['#GOOD']/df_summary['#BAD']\n",
    "  df_summary['%BAD'] = df_summary['#BAD']/df_summary['#BAD'].sum()\n",
    "  df_summary['%GOOD'] = df_summary['#GOOD']/df_summary['#GOOD'].sum()\n",
    "  df_summary['WOE'] = np.log(df_summary['%GOOD']/df_summary['%BAD'])\n",
    "  df_summary['IV'] = (df_summary['%GOOD']-df_summary['%BAD'])*df_summary['WOE']\n",
    "  df_summary['COLUMN'] = colname\n",
    "  IV = df_summary['IV'].sum()\n",
    "  print('Information Value of {} column: {}'.format(colname, IV))\n",
    "  return df_summary, IV, new_thres"
   ]
  },
  {
   "cell_type": "code",
   "execution_count": 433,
   "metadata": {
    "id": "YSw_HqZ1mKRS"
   },
   "outputs": [],
   "source": [
    "loan_d = loan_c[['CUSTOMER_TYPE', 'CRLIMIT', 'PRINCIPAL_AMT', 'PRINCIPAL_PAY_DAY',\n",
    "       'INTEREST_PREPAID', 'NPL_DAYS', 'LAST_REPAYMENT_AMOUNT',\n",
    "       'FEE_OUTSTANDING', 'VEXPRIREDATE', 'Down_payment%',\n",
    "       'Down payment amount', 'LOAN_LENGTH', 'good_bad']]"
   ]
  },
  {
   "cell_type": "code",
   "execution_count": 434,
   "metadata": {
    "colab": {
     "base_uri": "https://localhost:8080/"
    },
    "id": "Ezr7-WifYQL3",
    "outputId": "d9f3b65f-d370-4d75-8cbb-c9ab6588d68a"
   },
   "outputs": [
    {
     "name": "stdout",
     "output_type": "stream",
     "text": [
      "Information Value of CUSTOMER_TYPE column: 0.0\n",
      "Information Value of CRLIMIT column: 0.12580471004277544\n",
      "Information Value of PRINCIPAL_AMT column: 0.049758510038969535\n",
      "Information Value of PRINCIPAL_PAY_DAY column: 0.04977978125934047\n",
      "Information Value of INTEREST_PREPAID column: 0.0\n",
      "Information Value of NPL_DAYS column: 1.960933848540213\n",
      "Information Value of VEXPRIREDATE column: 0.0\n",
      "Information Value of LAST_REPAYMENT_AMOUNT column: 0.02984630213808569\n",
      "Information Value of FEE_OUTSTANDING column: 2.025437516372508\n",
      "Information Value of Down_payment% column: 0.028449448848436122\n",
      "Information Value of Down payment amount column: 0.002212625574032738\n",
      "Information Value of LOAN_LENGTH column: 0.106735646888015\n"
     ]
    }
   ],
   "source": [
    "WOE_dict=dict()\n",
    "nbins = {'CUSTOMER_TYPE':1, 'CRLIMIT':33, 'PRINCIPAL_AMT':15, 'PRINCIPAL_PAY_DAY': 5, 'INTEREST_PREPAID':1, 'NPL_DAYS':2, 'VEXPRIREDATE':1,\n",
    " 'LAST_REPAYMENT_AMOUNT':17, 'FEE_OUTSTANDING':2, 'Down_payment%':3, 'Down payment amount':3, 'LOAN_LENGTH':9}\n",
    "for (col, bins) in nbins.items():\n",
    "  df_summary, IV, thres = _WOE(loan_c, colname=col, n_bins=bins)\n",
    "  WOE_dict[col] = {'table':df_summary, 'IV':IV}"
   ]
  },
  {
   "cell_type": "code",
   "execution_count": 435,
   "metadata": {
    "colab": {
     "base_uri": "https://localhost:8080/",
     "height": 426
    },
    "id": "3md2_SV4fkEO",
    "outputId": "7d64c141-bab3-4619-f394-0bf7ea500f05"
   },
   "outputs": [
    {
     "data": {
      "text/html": [
       "<div>\n",
       "<style scoped>\n",
       "    .dataframe tbody tr th:only-of-type {\n",
       "        vertical-align: middle;\n",
       "    }\n",
       "\n",
       "    .dataframe tbody tr th {\n",
       "        vertical-align: top;\n",
       "    }\n",
       "\n",
       "    .dataframe thead th {\n",
       "        text-align: right;\n",
       "    }\n",
       "</style>\n",
       "<table border=\"1\" class=\"dataframe\">\n",
       "  <thead>\n",
       "    <tr style=\"text-align: right;\">\n",
       "      <th></th>\n",
       "      <th>column</th>\n",
       "      <th>IV</th>\n",
       "      <th>rank</th>\n",
       "    </tr>\n",
       "  </thead>\n",
       "  <tbody>\n",
       "    <tr>\n",
       "      <th>7</th>\n",
       "      <td>FEE_OUTSTANDING</td>\n",
       "      <td>2.025438</td>\n",
       "      <td>suspicious</td>\n",
       "    </tr>\n",
       "    <tr>\n",
       "      <th>5</th>\n",
       "      <td>NPL_DAYS</td>\n",
       "      <td>1.960934</td>\n",
       "      <td>suspicious</td>\n",
       "    </tr>\n",
       "    <tr>\n",
       "      <th>1</th>\n",
       "      <td>CRLIMIT</td>\n",
       "      <td>0.125805</td>\n",
       "      <td>Medium</td>\n",
       "    </tr>\n",
       "    <tr>\n",
       "      <th>11</th>\n",
       "      <td>LOAN_LENGTH</td>\n",
       "      <td>0.106736</td>\n",
       "      <td>Medium</td>\n",
       "    </tr>\n",
       "    <tr>\n",
       "      <th>3</th>\n",
       "      <td>PRINCIPAL_PAY_DAY</td>\n",
       "      <td>0.049780</td>\n",
       "      <td>Weak</td>\n",
       "    </tr>\n",
       "    <tr>\n",
       "      <th>2</th>\n",
       "      <td>PRINCIPAL_AMT</td>\n",
       "      <td>0.049759</td>\n",
       "      <td>Weak</td>\n",
       "    </tr>\n",
       "    <tr>\n",
       "      <th>6</th>\n",
       "      <td>LAST_REPAYMENT_AMOUNT</td>\n",
       "      <td>0.029846</td>\n",
       "      <td>Weak</td>\n",
       "    </tr>\n",
       "    <tr>\n",
       "      <th>9</th>\n",
       "      <td>Down_payment%</td>\n",
       "      <td>0.028449</td>\n",
       "      <td>Weak</td>\n",
       "    </tr>\n",
       "    <tr>\n",
       "      <th>10</th>\n",
       "      <td>Down payment amount</td>\n",
       "      <td>0.002213</td>\n",
       "      <td>Useless</td>\n",
       "    </tr>\n",
       "    <tr>\n",
       "      <th>0</th>\n",
       "      <td>CUSTOMER_TYPE</td>\n",
       "      <td>0.000000</td>\n",
       "      <td>Useless</td>\n",
       "    </tr>\n",
       "    <tr>\n",
       "      <th>4</th>\n",
       "      <td>INTEREST_PREPAID</td>\n",
       "      <td>0.000000</td>\n",
       "      <td>Useless</td>\n",
       "    </tr>\n",
       "    <tr>\n",
       "      <th>8</th>\n",
       "      <td>VEXPRIREDATE</td>\n",
       "      <td>0.000000</td>\n",
       "      <td>Useless</td>\n",
       "    </tr>\n",
       "  </tbody>\n",
       "</table>\n",
       "</div>"
      ],
      "text/plain": [
       "                   column        IV        rank\n",
       "7         FEE_OUTSTANDING  2.025438  suspicious\n",
       "5                NPL_DAYS  1.960934  suspicious\n",
       "1                 CRLIMIT  0.125805      Medium\n",
       "11            LOAN_LENGTH  0.106736      Medium\n",
       "3       PRINCIPAL_PAY_DAY  0.049780        Weak\n",
       "2           PRINCIPAL_AMT  0.049759        Weak\n",
       "6   LAST_REPAYMENT_AMOUNT  0.029846        Weak\n",
       "9           Down_payment%  0.028449        Weak\n",
       "10    Down payment amount  0.002213     Useless\n",
       "0           CUSTOMER_TYPE  0.000000     Useless\n",
       "4        INTEREST_PREPAID  0.000000     Useless\n",
       "8            VEXPRIREDATE  0.000000     Useless"
      ]
     },
     "execution_count": 435,
     "metadata": {},
     "output_type": "execute_result"
    }
   ],
   "source": [
    "columns = []\n",
    "IVs = []\n",
    "for col in loan_d.columns:\n",
    "  if col != 'good_bad':\n",
    "    columns.append(col)\n",
    "    IVs.append(WOE_dict[col]['IV'])\n",
    "df_WOE = pd.DataFrame({'column': columns, 'IV': IVs})\n",
    "\n",
    "def _rank_IV(iv):\n",
    "  if iv <= 0.02:\n",
    "    return 'Useless'\n",
    "  elif iv <= 0.1:\n",
    "    return 'Weak'\n",
    "  elif iv <= 0.3:\n",
    "    return 'Medium'\n",
    "  elif iv <= 0.5:\n",
    "    return 'Strong'\n",
    "  else:\n",
    "    return 'suspicious'\n",
    "\n",
    "df_WOE['rank']=df_WOE['IV'].apply(lambda x: _rank_IV(x))\n",
    "df_WOE.sort_values('IV', ascending=False)"
   ]
  },
  {
   "cell_type": "code",
   "execution_count": 436,
   "metadata": {
    "id": "wHzBJdFGaNJA"
   },
   "outputs": [],
   "source": [
    "# entries_to_remove = ('Down payment amount', 'CUSTOMER_TYPE', 'ACCOUNT_STATUS')\n",
    "entries_to_remove = ('TIMES')\n",
    "for k in entries_to_remove:\n",
    "    WOE_dict.pop(k, None)"
   ]
  },
  {
   "cell_type": "code",
   "execution_count": 437,
   "metadata": {
    "id": "N3D68vBDZB3b"
   },
   "outputs": [],
   "source": [
    "for col in WOE_dict.keys():\n",
    "  try:\n",
    "    key = list(WOE_dict[col]['table']['WOE'].index)\n",
    "    woe = list(WOE_dict[col]['table']['WOE'])\n",
    "    d = dict(zip(key, woe))\n",
    "    col_woe = col+'_WOE'\n",
    "    loan_c[col_woe] = loan_c[col].map(d)\n",
    "  except:\n",
    "    print(col)"
   ]
  },
  {
   "cell_type": "code",
   "execution_count": 438,
   "metadata": {
    "id": "GoSDrLnwGANl"
   },
   "outputs": [],
   "source": [
    "pd.set_option('display.max_columns', None)"
   ]
  },
  {
   "cell_type": "code",
   "execution_count": 439,
   "metadata": {
    "colab": {
     "base_uri": "https://localhost:8080/"
    },
    "id": "7-tpFma_bC0l",
    "outputId": "3c267daa-a782-4fbb-9a0b-d8449b06a3f5"
   },
   "outputs": [
    {
     "name": "stderr",
     "output_type": "stream",
     "text": [
      "/tmp/ipykernel_15636/2287184674.py:2: SettingWithCopyWarning: \n",
      "A value is trying to be set on a copy of a slice from a DataFrame.\n",
      "Try using .loc[row_indexer,col_indexer] = value instead\n",
      "\n",
      "See the caveats in the documentation: https://pandas.pydata.org/pandas-docs/stable/user_guide/indexing.html#returning-a-view-versus-a-copy\n",
      "  loan_WOE['good_bad'] = loan_c['good_bad']\n"
     ]
    }
   ],
   "source": [
    "loan_WOE = loan_c.filter(like='_WOE', axis = 1)\n",
    "loan_WOE['good_bad'] = loan_c['good_bad']"
   ]
  },
  {
   "cell_type": "code",
   "execution_count": 440,
   "metadata": {
    "id": "YA9a_U6nbKuy"
   },
   "outputs": [],
   "source": [
    "X = loan_WOE.filter(like='_WOE', axis = 1)\n",
    "y = loan_WOE['good_bad']"
   ]
  },
  {
   "cell_type": "code",
   "execution_count": 441,
   "metadata": {
    "id": "eg3g-GQrbVjS"
   },
   "outputs": [],
   "source": [
    "from sklearn.model_selection import train_test_split\n",
    "\n",
    "ids = np.arange(X.shape[0])\n",
    "X_train, X_test, y_train, y_test, id_train, id_test = train_test_split(X, y, ids, test_size = 0.2, stratify = y, shuffle = True, random_state = 42)\n"
   ]
  },
  {
   "cell_type": "code",
   "execution_count": 442,
   "metadata": {
    "id": "s2DApfL2GoP8"
   },
   "outputs": [],
   "source": [
    "from imblearn.over_sampling import RandomOverSampler\n",
    "from imblearn.over_sampling import SMOTE\n",
    "os = RandomOverSampler()\n",
    "X_train, y_train = os.fit_resample(X_train, y_train)\n",
    "y_train_series = pd.Series(y_train)"
   ]
  },
  {
   "cell_type": "code",
   "execution_count": 443,
   "metadata": {
    "colab": {
     "base_uri": "https://localhost:8080/"
    },
    "id": "W9vnFKfRbfyp",
    "outputId": "269144a6-1f76-4110-8395-e32286b3c7d8"
   },
   "outputs": [
    {
     "data": {
      "text/html": [
       "<style>#sk-container-id-8 {color: black;background-color: white;}#sk-container-id-8 pre{padding: 0;}#sk-container-id-8 div.sk-toggleable {background-color: white;}#sk-container-id-8 label.sk-toggleable__label {cursor: pointer;display: block;width: 100%;margin-bottom: 0;padding: 0.3em;box-sizing: border-box;text-align: center;}#sk-container-id-8 label.sk-toggleable__label-arrow:before {content: \"▸\";float: left;margin-right: 0.25em;color: #696969;}#sk-container-id-8 label.sk-toggleable__label-arrow:hover:before {color: black;}#sk-container-id-8 div.sk-estimator:hover label.sk-toggleable__label-arrow:before {color: black;}#sk-container-id-8 div.sk-toggleable__content {max-height: 0;max-width: 0;overflow: hidden;text-align: left;background-color: #f0f8ff;}#sk-container-id-8 div.sk-toggleable__content pre {margin: 0.2em;color: black;border-radius: 0.25em;background-color: #f0f8ff;}#sk-container-id-8 input.sk-toggleable__control:checked~div.sk-toggleable__content {max-height: 200px;max-width: 100%;overflow: auto;}#sk-container-id-8 input.sk-toggleable__control:checked~label.sk-toggleable__label-arrow:before {content: \"▾\";}#sk-container-id-8 div.sk-estimator input.sk-toggleable__control:checked~label.sk-toggleable__label {background-color: #d4ebff;}#sk-container-id-8 div.sk-label input.sk-toggleable__control:checked~label.sk-toggleable__label {background-color: #d4ebff;}#sk-container-id-8 input.sk-hidden--visually {border: 0;clip: rect(1px 1px 1px 1px);clip: rect(1px, 1px, 1px, 1px);height: 1px;margin: -1px;overflow: hidden;padding: 0;position: absolute;width: 1px;}#sk-container-id-8 div.sk-estimator {font-family: monospace;background-color: #f0f8ff;border: 1px dotted black;border-radius: 0.25em;box-sizing: border-box;margin-bottom: 0.5em;}#sk-container-id-8 div.sk-estimator:hover {background-color: #d4ebff;}#sk-container-id-8 div.sk-parallel-item::after {content: \"\";width: 100%;border-bottom: 1px solid gray;flex-grow: 1;}#sk-container-id-8 div.sk-label:hover label.sk-toggleable__label {background-color: #d4ebff;}#sk-container-id-8 div.sk-serial::before {content: \"\";position: absolute;border-left: 1px solid gray;box-sizing: border-box;top: 0;bottom: 0;left: 50%;z-index: 0;}#sk-container-id-8 div.sk-serial {display: flex;flex-direction: column;align-items: center;background-color: white;padding-right: 0.2em;padding-left: 0.2em;position: relative;}#sk-container-id-8 div.sk-item {position: relative;z-index: 1;}#sk-container-id-8 div.sk-parallel {display: flex;align-items: stretch;justify-content: center;background-color: white;position: relative;}#sk-container-id-8 div.sk-item::before, #sk-container-id-8 div.sk-parallel-item::before {content: \"\";position: absolute;border-left: 1px solid gray;box-sizing: border-box;top: 0;bottom: 0;left: 50%;z-index: -1;}#sk-container-id-8 div.sk-parallel-item {display: flex;flex-direction: column;z-index: 1;position: relative;background-color: white;}#sk-container-id-8 div.sk-parallel-item:first-child::after {align-self: flex-end;width: 50%;}#sk-container-id-8 div.sk-parallel-item:last-child::after {align-self: flex-start;width: 50%;}#sk-container-id-8 div.sk-parallel-item:only-child::after {width: 0;}#sk-container-id-8 div.sk-dashed-wrapped {border: 1px dashed gray;margin: 0 0.4em 0.5em 0.4em;box-sizing: border-box;padding-bottom: 0.4em;background-color: white;}#sk-container-id-8 div.sk-label label {font-family: monospace;font-weight: bold;display: inline-block;line-height: 1.2em;}#sk-container-id-8 div.sk-label-container {text-align: center;}#sk-container-id-8 div.sk-container {/* jupyter's `normalize.less` sets `[hidden] { display: none; }` but bootstrap.min.css set `[hidden] { display: none !important; }` so we also need the `!important` here to be able to override the default hidden behavior on the sphinx rendered scikit-learn.org. See: https://github.com/scikit-learn/scikit-learn/issues/21755 */display: inline-block !important;position: relative;}#sk-container-id-8 div.sk-text-repr-fallback {display: none;}</style><div id=\"sk-container-id-8\" class=\"sk-top-container\"><div class=\"sk-text-repr-fallback\"><pre>LogisticRegression(C=1, max_iter=1000)</pre><b>In a Jupyter environment, please rerun this cell to show the HTML representation or trust the notebook. <br />On GitHub, the HTML representation is unable to render, please try loading this page with nbviewer.org.</b></div><div class=\"sk-container\" hidden><div class=\"sk-item\"><div class=\"sk-estimator sk-toggleable\"><input class=\"sk-toggleable__control sk-hidden--visually\" id=\"sk-estimator-id-8\" type=\"checkbox\" checked><label for=\"sk-estimator-id-8\" class=\"sk-toggleable__label sk-toggleable__label-arrow\">LogisticRegression</label><div class=\"sk-toggleable__content\"><pre>LogisticRegression(C=1, max_iter=1000)</pre></div></div></div></div></div>"
      ],
      "text/plain": [
       "LogisticRegression(C=1, max_iter=1000)"
      ]
     },
     "execution_count": 443,
     "metadata": {},
     "output_type": "execute_result"
    }
   ],
   "source": [
    "from sklearn.utils.extmath import weighted_mode\n",
    "from sklearn.linear_model import LogisticRegression\n",
    "\n",
    "logit_model = LogisticRegression(solver = 'lbfgs', max_iter=1000, fit_intercept=True, tol=0.0001, C=1, penalty='l2')\n",
    "logit_model.fit(X_train, y_train)"
   ]
  },
  {
   "cell_type": "code",
   "execution_count": 444,
   "metadata": {
    "id": "RK7OGtC-bI_z"
   },
   "outputs": [],
   "source": [
    "def _KM(y_pred, n_bins):\n",
    "  _, thresholds = pd.qcut(y_pred, q=n_bins, retbins=True)\n",
    "  cmd_BAD = []\n",
    "  cmd_GOOD = []\n",
    "  BAD_id = set(np.where(y_test == 0)[0])\n",
    "  GOOD_id = set(np.where(y_test == 1)[0])\n",
    "  total_BAD = len(BAD_id)\n",
    "  total_GOOD = len(GOOD_id)\n",
    "  for thres in thresholds:\n",
    "    pred_id = set(np.where(y_pred <= thres)[0])\n",
    "    # Đếm % số lượng hồ sơ BAD có xác suất dự báo nhỏ hơn hoặc bằng thres\n",
    "    per_BAD = len(pred_id.intersection(BAD_id))/total_BAD\n",
    "    cmd_BAD.append(per_BAD)\n",
    "    # Đếm % số lượng hồ sơ GOOD có xác suất dự báo nhỏ hơn hoặc bằng thres\n",
    "    per_GOOD = len(pred_id.intersection(GOOD_id))/total_GOOD\n",
    "    cmd_GOOD.append(per_GOOD)\n",
    "  cmd_BAD = np.array(cmd_BAD)\n",
    "  cmd_GOOD = np.array(cmd_GOOD)\n",
    "  return cmd_BAD, cmd_GOOD, thresholds"
   ]
  },
  {
   "cell_type": "code",
   "execution_count": 445,
   "metadata": {
    "colab": {
     "base_uri": "https://localhost:8080/"
    },
    "id": "RxW66T-nbTHM",
    "outputId": "02990422-7636-4db5-b385-4636fea013e4"
   },
   "outputs": [
    {
     "data": {
      "text/plain": [
       "42.2677896003704"
      ]
     },
     "execution_count": 445,
     "metadata": {},
     "output_type": "execute_result"
    }
   ],
   "source": [
    "def _CreditScore(beta, alpha, woe, n = 12, odds = 1/4, pdo = -50, thres_score = 600):\n",
    "  factor = pdo/np.log(2)\n",
    "  offset = thres_score - factor*np.log(odds)\n",
    "  score = (beta*woe+alpha/n)*factor+offset/n\n",
    "  return score\n",
    "\n",
    "_CreditScore(beta = 0.5, alpha = -1, woe = 0.15, n = 12)"
   ]
  },
  {
   "cell_type": "code",
   "execution_count": 446,
   "metadata": {
    "colab": {
     "base_uri": "https://localhost:8080/"
    },
    "id": "NmAg2om4bU75",
    "outputId": "5c635a2e-c868-413e-c903-bc938b0ed9e8"
   },
   "outputs": [],
   "source": [
    "betas_dict = dict(zip(list(X_train.columns), logit_model.coef_[0]))\n",
    "alpha = logit_model.intercept_[0]"
   ]
  },
  {
   "cell_type": "code",
   "execution_count": 447,
   "metadata": {
    "id": "8Wq4hUAubZG0"
   },
   "outputs": [],
   "source": [
    "columns = ['CUSTOMER_TYPE', 'CRLIMIT', 'PRINCIPAL_AMT', 'PRINCIPAL_PAY_DAY',\n",
    "       'INTEREST_PREPAID', 'NPL_DAYS', 'LAST_REPAYMENT_AMOUNT',\n",
    "       'FEE_OUTSTANDING', 'VEXPRIREDATE', 'Down_payment%',\n",
    "       'Down payment amount', 'LOAN_LENGTH'\n",
    "       ]  "
   ]
  },
  {
   "cell_type": "code",
   "execution_count": 448,
   "metadata": {
    "colab": {
     "base_uri": "https://localhost:8080/",
     "height": 206
    },
    "id": "IsiUB1l6b2Ed",
    "outputId": "a5cb57c2-2a4b-4123-91cf-90d073b1e82f"
   },
   "outputs": [],
   "source": [
    "cols = []\n",
    "features = []\n",
    "woes = []\n",
    "betas = []\n",
    "scores = []\n",
    "\n",
    "for col in columns:\n",
    "  for feature, woe in WOE_dict[col]['table']['WOE'].to_frame().iterrows():\n",
    "    cols.append(col)\n",
    "    # Add feature\n",
    "    feature = str(feature)\n",
    "    features.append(feature)    \n",
    "    # Add woe\n",
    "    woe = woe.values[0]\n",
    "    woes.append(woe)\n",
    "    # Add beta\n",
    "    col_woe = col+'_WOE'\n",
    "    beta = betas_dict[col_woe]\n",
    "    betas.append(beta)\n",
    "    # Add score\n",
    "    score = _CreditScore(beta = beta, alpha = alpha, woe = woe, n = 12)\n",
    "    scores.append(score)\n",
    "\n",
    "df_WOE = pd.DataFrame({'Columns': cols, 'Features': features, 'WOE': woes, 'Betas':betas, 'Scores':scores})"
   ]
  },
  {
   "cell_type": "code",
   "execution_count": 449,
   "metadata": {
    "id": "Y7YCKW1bcOjE"
   },
   "outputs": [],
   "source": [
    "test = loan_c[columns]"
   ]
  },
  {
   "cell_type": "code",
   "execution_count": 450,
   "metadata": {
    "colab": {
     "base_uri": "https://localhost:8080/"
    },
    "id": "3Iz0AMAScWPX",
    "outputId": "ebb4e473-9b8e-4da8-b81a-b98db6c7e7ca"
   },
   "outputs": [
    {
     "name": "stderr",
     "output_type": "stream",
     "text": [
      "/tmp/ipykernel_15636/3786374894.py:1: SettingWithCopyWarning: \n",
      "A value is trying to be set on a copy of a slice from a DataFrame.\n",
      "Try using .loc[row_indexer,col_indexer] = value instead\n",
      "\n",
      "See the caveats in the documentation: https://pandas.pydata.org/pandas-docs/stable/user_guide/indexing.html#returning-a-view-versus-a-copy\n",
      "  test['good_bad'] = loan_c['good_bad']\n"
     ]
    }
   ],
   "source": [
    "test['good_bad'] = loan_c['good_bad']"
   ]
  },
  {
   "cell_type": "code",
   "execution_count": 451,
   "metadata": {
    "id": "KuAAa17VdggP"
   },
   "outputs": [],
   "source": [
    "def _search_score(obs, col):\n",
    "  feature = [str(inter) for inter in list(WOE_dict[col]['table'].index) if obs[col].values[0] in inter][0]\n",
    "  score = df_WOE[(df_WOE['Columns'] == col) & (df_WOE['Features'] == feature)]['Scores'].values[0]\n",
    "  return score\n"
   ]
  },
  {
   "cell_type": "code",
   "execution_count": 452,
   "metadata": {
    "id": "-5eXA69gdh25"
   },
   "outputs": [],
   "source": [
    "total_scores = []\n",
    "def _total_score(obs, columns = columns):\n",
    "  scores = dict()\n",
    "  for col in columns:\n",
    "    scores[col] = _search_score(obs, col)\n",
    "  total_score = sum(scores.values())\n",
    "\n",
    "  return total_score"
   ]
  },
  {
   "cell_type": "code",
   "execution_count": 453,
   "metadata": {
    "id": "eWk9uhTf-7nG"
   },
   "outputs": [],
   "source": [
    "cnt = {}\n",
    "for i in list(df_WOE['Columns'].unique()):\n",
    "  cnt[i] =1\n",
    "cmt = cnt.copy()\n",
    "for i in cnt:\n",
    "  sub_df = df_WOE[df_WOE['Columns'] == i]\n",
    "  \n",
    "  a = {}\n",
    "  sub_df = sub_df.reset_index()\n",
    "  for j in range(len(sub_df)):\n",
    "\n",
    "    res = sub_df['Features'][j].strip('](').split(', ')\n",
    "    res = [float(i) for i in res]\n",
    "    \n",
    "    a[str(sub_df['Scores'][j])] = res\n",
    "  cmt[i] = a"
   ]
  },
  {
   "cell_type": "code",
   "execution_count": 454,
   "metadata": {
    "id": "bfl5zjdkL_x2"
   },
   "outputs": [],
   "source": [
    "import json\n",
    "with open(\"WOE_dict.json\", \"w\") as outfile:\n",
    "    json.dump(cmt, outfile)"
   ]
  }
 ],
 "metadata": {
  "accelerator": "GPU",
  "colab": {
   "provenance": []
  },
  "gpuClass": "standard",
  "kernelspec": {
   "display_name": "Python 3 (ipykernel)",
   "language": "python",
   "name": "python3"
  },
  "language_info": {
   "codemirror_mode": {
    "name": "ipython",
    "version": 3
   },
   "file_extension": ".py",
   "mimetype": "text/x-python",
   "name": "python",
   "nbconvert_exporter": "python",
   "pygments_lexer": "ipython3",
   "version": "3.10.8"
  },
  "vscode": {
   "interpreter": {
    "hash": "22a7c381201dc5638a1a415370bcddcdedbdfee82ece0797a6945e00068fd162"
   }
  }
 },
 "nbformat": 4,
 "nbformat_minor": 4
}
